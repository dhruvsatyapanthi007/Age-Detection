{
 "cells": [
  {
   "cell_type": "code",
   "execution_count": 2,
   "metadata": {},
   "outputs": [],
   "source": [
    "import numpy\n",
    "import cv2\n",
    "from matplotlib import pyplot\n",
    "import pywt\n",
    "from skimage import feature\n",
    "import math\n",
    "import os\n",
    "from sklearn.model_selection import train_test_split\n",
    "import sklearn.svm as sksv"
   ]
  },
  {
   "cell_type": "code",
   "execution_count": 3,
   "metadata": {
    "scrolled": false
   },
   "outputs": [],
   "source": [
    "def face_extraction(im):\n",
    "    face_cascade = cv2.CascadeClassifier('/home/satty/haarcascade_frontalface_default.xml')\n",
    "    faces = face_cascade.detectMultiScale(im,1.3,5)\n",
    "    for (x,y,w,h) in faces:\n",
    "        im=im[y+2:y+w-2,x+2:x+h-2]\n",
    "    return im"
   ]
  },
  {
   "cell_type": "code",
   "execution_count": 4,
   "metadata": {},
   "outputs": [],
   "source": [
    "def localbinarypatternextraction(im,nump,radi):\n",
    "    np=nump\n",
    "    rs=radi\n",
    "    eps=1e-10\n",
    "    lbp=feature.local_binary_pattern(im,np,rs,method=\"uniform\")\n",
    "    (hist,_)=numpy.histogram(lbp.ravel(),bins=numpy.arange(0,np+3),range=(0,np+2))\n",
    "    hist=hist.astype(\"float\")\n",
    "    hist=hist/(hist.sum()+eps)\n",
    "    return hist"
   ]
  },
  {
   "cell_type": "code",
   "execution_count": 5,
   "metadata": {},
   "outputs": [],
   "source": [
    "def groupnumber(n):\n",
    "    if n<=20:\n",
    "        return 1\n",
    "    elif n<=50:\n",
    "        return 2\n",
    "    else:\n",
    "        return 3"
   ]
  },
  {
   "cell_type": "code",
   "execution_count": 6,
   "metadata": {},
   "outputs": [],
   "source": [
    "def extractdataset(nump,radi):\n",
    "    i=0\n",
    "    j=0\n",
    "    X=numpy.array([])\n",
    "    y=numpy.array([])\n",
    "    DIR1='proorefine_dataset_m/0to20'\n",
    "    for name in os.listdir('./'+DIR1):\n",
    "        if os.path.isfile(os.path.join('./'+DIR1,name)):\n",
    "            im=cv2.imread(os.path.join('./'+DIR1,name),0)\n",
    "            im=face_extraction(im)\n",
    "            if im.size!=0:\n",
    "                hist=localbinarypatternextraction(im,nump,radi)\n",
    "                X=numpy.append(X,hist)\n",
    "                y=numpy.append(y,groupnumber(10))\n",
    "                j=j+1\n",
    "    DIR2='proorefine_dataset_m/21to50'\n",
    "    for name in os.listdir('./'+DIR2):\n",
    "        if os.path.isfile(os.path.join('./'+DIR2,name)):\n",
    "            im=cv2.imread(os.path.join('./'+DIR2,name),0)\n",
    "            im=face_extraction(im)\n",
    "            if im.size!=0:\n",
    "                hist=localbinarypatternextraction(im,nump,radi)\n",
    "                X=numpy.append(X,hist)\n",
    "                y=numpy.append(y,groupnumber(30))\n",
    "                j=j+1\n",
    "    DIR3='proorefine_dataset_m/51on'\n",
    "    for name in os.listdir('./'+DIR3):\n",
    "        if os.path.isfile(os.path.join('./'+DIR3,name)):\n",
    "            im=cv2.imread(os.path.join('./'+DIR3,name),0)\n",
    "            im=face_extraction(im)\n",
    "            if im.size!=0:\n",
    "                hist=localbinarypatternextraction(im,nump,radi)\n",
    "                X=numpy.append(X,hist)\n",
    "                y=numpy.append(y,groupnumber(80))\n",
    "                j=j+1\n",
    "    X=X.reshape(j,nump+2)\n",
    "    y=y.reshape(j,1)\n",
    "    return (X,y)"
   ]
  },
  {
   "cell_type": "code",
   "execution_count": 7,
   "metadata": {},
   "outputs": [],
   "source": [
    "nump=24\n",
    "radi=8\n",
    "(X,y)=extractdataset(nump,radi)\n",
    "X_train,X_test,y_train,y_test=train_test_split(X,y,random_state=0)\n",
    "y_train1=(y_train==1).astype(\"int\")\n",
    "y_train2=(y_train==2).astype(\"int\")\n",
    "y_train3=(y_train==3).astype(\"int\")"
   ]
  },
  {
   "cell_type": "code",
   "execution_count": 9,
   "metadata": {},
   "outputs": [
    {
     "name": "stdout",
     "output_type": "stream",
     "text": [
      "1\n"
     ]
    },
    {
     "name": "stderr",
     "output_type": "stream",
     "text": [
      "/usr/local/lib/python3.5/dist-packages/sklearn/utils/validation.py:578: DataConversionWarning: A column-vector y was passed when a 1d array was expected. Please change the shape of y to (n_samples, ), for example using ravel().\n",
      "  y = column_or_1d(y, warn=True)\n"
     ]
    },
    {
     "name": "stdout",
     "output_type": "stream",
     "text": [
      "0.9595606590114828\n",
      "0.9569449644327968\n",
      "0.7497503744383425\n",
      "0.739797828528641\n",
      "0.7901897154268597\n",
      "0.7802321228004493\n",
      "1\n"
     ]
    }
   ],
   "source": [
    "im=cv2.imread('/home/satty/folder/Ronaldo4.jpg',0)\n",
    "im=face_extraction(im)\n",
    "im=localbinarypatternextraction(im,nump,radi)\n",
    "im=im.reshape(1,-1)\n",
    "print(numpy.argmax([supp1.decision_function(im),supp2.decision_function(im),supp3.decision_function(im)]))\n",
    "C=100\n",
    "gamma=100\n",
    "supp1=sksv.SVC(gamma=gamma,C=C)\n",
    "supp1.fit(X_train,y_train1)\n",
    "y=supp1.predict(X_test)\n",
    "s11=supp1.score(X_train,y_train1)\n",
    "s12=supp1.score(X_test,y_test==1)\n",
    "print(s11)\n",
    "print(s12)\n",
    "supp2=sksv.SVC(gamma=gamma,C=C)\n",
    "supp2.fit(X_train,y_train2)\n",
    "y=supp2.predict(X_test)\n",
    "s21=supp2.score(X_train,y_train2)\n",
    "s22=supp2.score(X_test,y_test==2)\n",
    "print(s21)\n",
    "print(s22)\n",
    "supp3=sksv.SVC(gamma=gamma,C=C)\n",
    "supp3.fit(X_train,y_train3)\n",
    "y=supp3.predict(X_test)\n",
    "s31=supp3.score(X_train,y_train3)\n",
    "s32=supp3.score(X_test,y_test==3)\n",
    "print(s31)\n",
    "print(s32)\n",
    "print(numpy.argmax([supp1.decision_function(im),supp2.decision_function(im),supp3.decision_function(im)]))"
   ]
  },
  {
   "cell_type": "code",
   "execution_count": 14,
   "metadata": {},
   "outputs": [
    {
     "name": "stdout",
     "output_type": "stream",
     "text": [
      "1\n"
     ]
    }
   ],
   "source": [
    "im=cv2.imread('/home/satty/folder/ronaldojr.jpg',0)\n",
    "im=face_extraction(im)\n",
    "im=localbinarypatternextraction(im,nump,radi)\n",
    "im=im.reshape(1,-1)\n",
    "print(numpy.argmax([supp1.decision_function(im),supp2.decision_function(im),supp3.decision_function(im)]))"
   ]
  },
  {
   "cell_type": "code",
   "execution_count": null,
   "metadata": {},
   "outputs": [],
   "source": []
  }
 ],
 "metadata": {
  "kernelspec": {
   "display_name": "Python 3",
   "language": "python",
   "name": "python3"
  },
  "language_info": {
   "codemirror_mode": {
    "name": "ipython",
    "version": 3
   },
   "file_extension": ".py",
   "mimetype": "text/x-python",
   "name": "python",
   "nbconvert_exporter": "python",
   "pygments_lexer": "ipython3",
   "version": "3.6.5"
  }
 },
 "nbformat": 4,
 "nbformat_minor": 2
}
